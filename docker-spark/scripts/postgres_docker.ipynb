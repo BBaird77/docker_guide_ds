{
 "cells": [
  {
   "cell_type": "markdown",
   "metadata": {},
   "source": [
    "# Notes\n",
    "\n",
    "## Make sure to build your lego database using the `db_postgres` container.\n",
    "\n",
    "- You need to attach to the container and then navigate in a terminal to the `scratch` folder.\n",
    "- In the scratch folder you should see a `lego.sql` file.\n",
    "- Run the following psql command in the scratch folder `psql -d \"postgres://postgres:postgres1234@db/lego\" -f lego.sql`\n",
    "\n",
    "## Exploring the database with Adminer\n",
    "\n",
    "You can use [http://localhost:8080](http://localhost:8080) to see the database and tables you have created. If you see them there, the below code should work."
   ]
  },
  {
   "cell_type": "code",
   "execution_count": 1,
   "metadata": {},
   "outputs": [
    {
     "name": "stdout",
     "output_type": "stream",
     "text": [
      "Collecting polars\n",
      "  Downloading polars-1.21.0-cp39-abi3-manylinux_2_24_aarch64.whl.metadata (14 kB)\n",
      "Collecting adbc-driver-postgresql\n",
      "  Downloading adbc_driver_postgresql-1.4.0-py3-none-manylinux_2_17_aarch64.manylinux2014_aarch64.whl.metadata (4.0 kB)\n",
      "Collecting adbc-driver-manager (from adbc-driver-postgresql)\n",
      "  Downloading adbc_driver_manager-1.4.0-cp311-cp311-manylinux_2_17_aarch64.manylinux2014_aarch64.whl.metadata (3.2 kB)\n",
      "Requirement already satisfied: importlib-resources>=1.3 in /opt/conda/lib/python3.11/site-packages (from adbc-driver-postgresql) (6.1.0)\n",
      "Requirement already satisfied: typing-extensions in /opt/conda/lib/python3.11/site-packages (from adbc-driver-manager->adbc-driver-postgresql) (4.8.0)\n",
      "Downloading polars-1.21.0-cp39-abi3-manylinux_2_24_aarch64.whl (29.0 MB)\n",
      "\u001b[2K   \u001b[90m━━━━━━━━━━━━━━━━━━━━━━━━━━━━━━━━━━━━━━━━\u001b[0m \u001b[32m29.0/29.0 MB\u001b[0m \u001b[31m53.6 MB/s\u001b[0m eta \u001b[36m0:00:00\u001b[0m00:01\u001b[0m00:01\u001b[0m\n",
      "\u001b[?25hDownloading adbc_driver_postgresql-1.4.0-py3-none-manylinux_2_17_aarch64.manylinux2014_aarch64.whl (3.2 MB)\n",
      "\u001b[2K   \u001b[90m━━━━━━━━━━━━━━━━━━━━━━━━━━━━━━━━━━━━━━━━\u001b[0m \u001b[32m3.2/3.2 MB\u001b[0m \u001b[31m59.7 MB/s\u001b[0m eta \u001b[36m0:00:00\u001b[0ma \u001b[36m0:00:01\u001b[0m\n",
      "\u001b[?25hDownloading adbc_driver_manager-1.4.0-cp311-cp311-manylinux_2_17_aarch64.manylinux2014_aarch64.whl (2.2 MB)\n",
      "\u001b[2K   \u001b[90m━━━━━━━━━━━━━━━━━━━━━━━━━━━━━━━━━━━━━━━━\u001b[0m \u001b[32m2.2/2.2 MB\u001b[0m \u001b[31m60.5 MB/s\u001b[0m eta \u001b[36m0:00:00\u001b[0m00:01\u001b[0m\n",
      "\u001b[?25hInstalling collected packages: polars, adbc-driver-manager, adbc-driver-postgresql\n",
      "Successfully installed adbc-driver-manager-1.4.0 adbc-driver-postgresql-1.4.0 polars-1.21.0\n"
     ]
    }
   ],
   "source": [
    "!pip install polars adbc-driver-postgresql"
   ]
  },
  {
   "cell_type": "code",
   "execution_count": 2,
   "metadata": {},
   "outputs": [],
   "source": [
    "import polars as pl\n",
    "import pyspark\n",
    "from pyspark.sql import *\n",
    "from pyspark.sql.types import *\n",
    "from pyspark.sql.functions import *\n",
    "from pyspark import SparkContext, SparkConf\n",
    "from pyspark.sql import SQLContext # https://spark.apache.org/docs/1.6.1/sql-programming-guide.html\n",
    "from os.path import join, abspath\n",
    "import os"
   ]
  },
  {
   "cell_type": "markdown",
   "metadata": {},
   "source": [
    "# Example of Connecting to Database with Spark"
   ]
  },
  {
   "cell_type": "code",
   "execution_count": 6,
   "metadata": {},
   "outputs": [],
   "source": [
    "# Create the session\n",
    "conf = (SparkConf()\n",
    "    .set(\"spark.ui.port\", \"4041\")\n",
    "    .set('spark.executor.memory', '4G')\n",
    "    .set('spark.driver.memory', '45G')\n",
    "    .set('spark.driver.maxResultSize', '10G')\n",
    "    .set('spark.jars', '/home/jovyan/scratch/postgresql-42.2.18.jar'))\n",
    "\n",
    "# Create the context\n",
    "# sc = pyspark.SparkContext(conf=conf)\n",
    "# sqlContext = SQLContext(sc)\n",
    "spark = SparkSession.builder \\\n",
    "    .appName('test') \\\n",
    "    .config(conf=conf) \\\n",
    "    .getOrCreate()"
   ]
  },
  {
   "cell_type": "code",
   "execution_count": 15,
   "metadata": {},
   "outputs": [
    {
     "data": {
      "text/html": [
       "<div>\n",
       "<style scoped>\n",
       "    .dataframe tbody tr th:only-of-type {\n",
       "        vertical-align: middle;\n",
       "    }\n",
       "\n",
       "    .dataframe tbody tr th {\n",
       "        vertical-align: top;\n",
       "    }\n",
       "\n",
       "    .dataframe thead th {\n",
       "        text-align: right;\n",
       "    }\n",
       "</style>\n",
       "<table border=\"1\" class=\"dataframe\">\n",
       "  <thead>\n",
       "    <tr style=\"text-align: right;\">\n",
       "      <th></th>\n",
       "      <th>part_num</th>\n",
       "      <th>name</th>\n",
       "      <th>part_cat_id</th>\n",
       "    </tr>\n",
       "  </thead>\n",
       "  <tbody>\n",
       "    <tr>\n",
       "      <th>0</th>\n",
       "      <td>0687b1</td>\n",
       "      <td>Set 0687 Activity Booklet 1</td>\n",
       "      <td>17</td>\n",
       "    </tr>\n",
       "    <tr>\n",
       "      <th>1</th>\n",
       "      <td>0901</td>\n",
       "      <td>Baseplate 16 x 30 with Set 080 Yellow House Print</td>\n",
       "      <td>1</td>\n",
       "    </tr>\n",
       "    <tr>\n",
       "      <th>2</th>\n",
       "      <td>0902</td>\n",
       "      <td>Baseplate 16 x 24 with Set 080 Small White Hou...</td>\n",
       "      <td>1</td>\n",
       "    </tr>\n",
       "    <tr>\n",
       "      <th>3</th>\n",
       "      <td>0903</td>\n",
       "      <td>Baseplate 16 x 24 with Set 080 Red House Print</td>\n",
       "      <td>1</td>\n",
       "    </tr>\n",
       "    <tr>\n",
       "      <th>4</th>\n",
       "      <td>0904</td>\n",
       "      <td>Baseplate 16 x 24 with Set 080 Large White Hou...</td>\n",
       "      <td>1</td>\n",
       "    </tr>\n",
       "  </tbody>\n",
       "</table>\n",
       "</div>"
      ],
      "text/plain": [
       "  part_num                                               name  part_cat_id\n",
       "0   0687b1                        Set 0687 Activity Booklet 1           17\n",
       "1     0901  Baseplate 16 x 30 with Set 080 Yellow House Print            1\n",
       "2     0902  Baseplate 16 x 24 with Set 080 Small White Hou...            1\n",
       "3     0903     Baseplate 16 x 24 with Set 080 Red House Print            1\n",
       "4     0904  Baseplate 16 x 24 with Set 080 Large White Hou...            1"
      ]
     },
     "execution_count": 15,
     "metadata": {},
     "output_type": "execute_result"
    }
   ],
   "source": [
    "# spark.stop()\n",
    "properties = {\n",
    "    'driver': 'org.postgresql.Driver',\n",
    "    'url': 'jdbc:postgresql://db:5432/lego',\n",
    "    'user': 'postgres',\n",
    "    'password': 'postgres1234',\n",
    "    'dbtable': 'lego_parts',\n",
    "}\n",
    "lego_parts = spark.read \\\n",
    "    .format('jdbc') \\\n",
    "    .option('driver', properties['driver']) \\\n",
    "    .option('url', properties['url']) \\\n",
    "    .option('dbtable', properties['dbtable']) \\\n",
    "    .option('user', properties['user']) \\\n",
    "    .load()\n",
    "lego_parts.limit(5).toPandas()"
   ]
  },
  {
   "cell_type": "markdown",
   "metadata": {},
   "source": [
    "## Move Spark DF to Spark Database"
   ]
  },
  {
   "cell_type": "code",
   "execution_count": 16,
   "metadata": {},
   "outputs": [],
   "source": [
    "lego_parts.write.saveAsTable(\"lego_parts_spark\")"
   ]
  },
  {
   "cell_type": "markdown",
   "metadata": {},
   "source": [
    "# Example of Connecting to Database with Polars"
   ]
  },
  {
   "cell_type": "code",
   "execution_count": 10,
   "metadata": {},
   "outputs": [
    {
     "data": {
      "text/html": [
       "<div><style>\n",
       ".dataframe > thead > tr,\n",
       ".dataframe > tbody > tr {\n",
       "  text-align: right;\n",
       "  white-space: pre-wrap;\n",
       "}\n",
       "</style>\n",
       "<small>shape: (4, 1)</small><table border=\"1\" class=\"dataframe\"><thead><tr><th>datname</th></tr><tr><td>str</td></tr></thead><tbody><tr><td>&quot;postgres&quot;</td></tr><tr><td>&quot;lego&quot;</td></tr><tr><td>&quot;template1&quot;</td></tr><tr><td>&quot;template0&quot;</td></tr></tbody></table></div>"
      ],
      "text/plain": [
       "shape: (4, 1)\n",
       "┌───────────┐\n",
       "│ datname   │\n",
       "│ ---       │\n",
       "│ str       │\n",
       "╞═══════════╡\n",
       "│ postgres  │\n",
       "│ lego      │\n",
       "│ template1 │\n",
       "│ template0 │\n",
       "└───────────┘"
      ]
     },
     "execution_count": 10,
     "metadata": {},
     "output_type": "execute_result"
    }
   ],
   "source": [
    "# https://docs.pola.rs/user-guide/io/database\n",
    "uri = \"postgresql://postgres:postgres1234@db:5432/lego\"\n",
    "pl.read_database_uri(query=\"SELECT datname from pg_database\", uri=uri, engine=\"adbc\")"
   ]
  },
  {
   "cell_type": "code",
   "execution_count": 11,
   "metadata": {},
   "outputs": [
    {
     "data": {
      "text/html": [
       "<div><style>\n",
       ".dataframe > thead > tr,\n",
       ".dataframe > tbody > tr {\n",
       "  text-align: right;\n",
       "  white-space: pre-wrap;\n",
       "}\n",
       "</style>\n",
       "<small>shape: (25_993, 3)</small><table border=\"1\" class=\"dataframe\"><thead><tr><th>part_num</th><th>name</th><th>part_cat_id</th></tr><tr><td>str</td><td>str</td><td>i32</td></tr></thead><tbody><tr><td>&quot;0687b1&quot;</td><td>&quot;Set 0687 Activity Booklet 1&quot;</td><td>17</td></tr><tr><td>&quot;0901&quot;</td><td>&quot;Baseplate 16 x 30 with Set 080…</td><td>1</td></tr><tr><td>&quot;0902&quot;</td><td>&quot;Baseplate 16 x 24 with Set 080…</td><td>1</td></tr><tr><td>&quot;0903&quot;</td><td>&quot;Baseplate 16 x 24 with Set 080…</td><td>1</td></tr><tr><td>&quot;0904&quot;</td><td>&quot;Baseplate 16 x 24 with Set 080…</td><td>1</td></tr><tr><td>&hellip;</td><td>&hellip;</td><td>&hellip;</td></tr><tr><td>&quot;zbb013&quot;</td><td>&quot;Znap Connector 3 x 3 - 4 way B…</td><td>43</td></tr><tr><td>&quot;zbb014&quot;</td><td>&quot;Znap Connector 1 x 3 - 2 way A&quot;</td><td>43</td></tr><tr><td>&quot;zbb015&quot;</td><td>&quot;Znap Beam 3, 1 Hole&quot;</td><td>43</td></tr><tr><td>&quot;zbb018&quot;</td><td>&quot;Znap Connector 3 x 3 - 4 way C…</td><td>43</td></tr><tr><td>&quot;zbb022&quot;</td><td>&quot;Wheel 68mm Znap Propeller (9 x…</td><td>29</td></tr></tbody></table></div>"
      ],
      "text/plain": [
       "shape: (25_993, 3)\n",
       "┌──────────┬─────────────────────────────────┬─────────────┐\n",
       "│ part_num ┆ name                            ┆ part_cat_id │\n",
       "│ ---      ┆ ---                             ┆ ---         │\n",
       "│ str      ┆ str                             ┆ i32         │\n",
       "╞══════════╪═════════════════════════════════╪═════════════╡\n",
       "│ 0687b1   ┆ Set 0687 Activity Booklet 1     ┆ 17          │\n",
       "│ 0901     ┆ Baseplate 16 x 30 with Set 080… ┆ 1           │\n",
       "│ 0902     ┆ Baseplate 16 x 24 with Set 080… ┆ 1           │\n",
       "│ 0903     ┆ Baseplate 16 x 24 with Set 080… ┆ 1           │\n",
       "│ 0904     ┆ Baseplate 16 x 24 with Set 080… ┆ 1           │\n",
       "│ …        ┆ …                               ┆ …           │\n",
       "│ zbb013   ┆ Znap Connector 3 x 3 - 4 way B… ┆ 43          │\n",
       "│ zbb014   ┆ Znap Connector 1 x 3 - 2 way A  ┆ 43          │\n",
       "│ zbb015   ┆ Znap Beam 3, 1 Hole             ┆ 43          │\n",
       "│ zbb018   ┆ Znap Connector 3 x 3 - 4 way C… ┆ 43          │\n",
       "│ zbb022   ┆ Wheel 68mm Znap Propeller (9 x… ┆ 29          │\n",
       "└──────────┴─────────────────────────────────┴─────────────┘"
      ]
     },
     "execution_count": 11,
     "metadata": {},
     "output_type": "execute_result"
    }
   ],
   "source": [
    "lego_parts_pl = pl.read_database_uri(query=\"SELECT * FROM lego_parts\", uri=uri, engine=\"adbc\")\n",
    "lego_parts_pl"
   ]
  },
  {
   "cell_type": "markdown",
   "metadata": {},
   "source": [
    "## Move Polars Dataframe to Spark Database"
   ]
  },
  {
   "cell_type": "code",
   "execution_count": 12,
   "metadata": {},
   "outputs": [],
   "source": [
    "parts_spdf = spark.createDataFrame(lego_parts_pl.to_pandas())\n",
    "parts_spdf.write.saveAsTable(\"lego_parts\")"
   ]
  },
  {
   "cell_type": "code",
   "execution_count": 17,
   "metadata": {},
   "outputs": [
    {
     "data": {
      "text/html": [
       "<div>\n",
       "<style scoped>\n",
       "    .dataframe tbody tr th:only-of-type {\n",
       "        vertical-align: middle;\n",
       "    }\n",
       "\n",
       "    .dataframe tbody tr th {\n",
       "        vertical-align: top;\n",
       "    }\n",
       "\n",
       "    .dataframe thead th {\n",
       "        text-align: right;\n",
       "    }\n",
       "</style>\n",
       "<table border=\"1\" class=\"dataframe\">\n",
       "  <thead>\n",
       "    <tr style=\"text-align: right;\">\n",
       "      <th></th>\n",
       "      <th>namespace</th>\n",
       "      <th>tableName</th>\n",
       "      <th>isTemporary</th>\n",
       "    </tr>\n",
       "  </thead>\n",
       "  <tbody>\n",
       "    <tr>\n",
       "      <th>0</th>\n",
       "      <td>default</td>\n",
       "      <td>lego_parts</td>\n",
       "      <td>False</td>\n",
       "    </tr>\n",
       "    <tr>\n",
       "      <th>1</th>\n",
       "      <td>default</td>\n",
       "      <td>lego_parts_spark</td>\n",
       "      <td>False</td>\n",
       "    </tr>\n",
       "  </tbody>\n",
       "</table>\n",
       "</div>"
      ],
      "text/plain": [
       "  namespace         tableName  isTemporary\n",
       "0   default        lego_parts        False\n",
       "1   default  lego_parts_spark        False"
      ]
     },
     "execution_count": 17,
     "metadata": {},
     "output_type": "execute_result"
    }
   ],
   "source": [
    "spark.sql(\"SHOW TABLES\").toPandas()"
   ]
  },
  {
   "cell_type": "code",
   "execution_count": null,
   "metadata": {},
   "outputs": [],
   "source": []
  }
 ],
 "metadata": {
  "kernelspec": {
   "display_name": "Python 3 (ipykernel)",
   "language": "python",
   "name": "python3"
  },
  "language_info": {
   "codemirror_mode": {
    "name": "ipython",
    "version": 3
   },
   "file_extension": ".py",
   "mimetype": "text/x-python",
   "name": "python",
   "nbconvert_exporter": "python",
   "pygments_lexer": "ipython3",
   "version": "3.11.6"
  }
 },
 "nbformat": 4,
 "nbformat_minor": 4
}
